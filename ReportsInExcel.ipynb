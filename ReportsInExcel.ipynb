{
 "cells": [
  {
   "cell_type": "code",
   "execution_count": 1,
   "metadata": {
    "collapsed": true
   },
   "outputs": [],
   "source": [
    "import pandas as pd"
   ]
  },
  {
   "cell_type": "code",
   "execution_count": 2,
   "metadata": {
    "collapsed": true
   },
   "outputs": [],
   "source": [
    "column_names= ['Site#', 'CHP', 'Operator#', 'State', 'NERC', 'Generator', 'Fuel', 'Btu', 'MWh'] "
   ]
  },
  {
   "cell_type": "code",
   "execution_count": 3,
   "metadata": {
    "collapsed": true
   },
   "outputs": [],
   "source": [
    "df= pd.read_csv(\"modified2016_2.csv\",header= None,skiprows=1) "
   ]
  },
  {
   "cell_type": "code",
   "execution_count": 4,
   "metadata": {
    "collapsed": true
   },
   "outputs": [],
   "source": [
    "a=[0,1,5,6,8,13,14,94,95]"
   ]
  },
  {
   "cell_type": "code",
   "execution_count": 5,
   "metadata": {
    "collapsed": true
   },
   "outputs": [],
   "source": [
    "columnList=[]"
   ]
  },
  {
   "cell_type": "code",
   "execution_count": 6,
   "metadata": {
    "collapsed": true
   },
   "outputs": [],
   "source": [
    "for i in a:\n",
    "    columnList.append(df.columns[i])"
   ]
  },
  {
   "cell_type": "code",
   "execution_count": 7,
   "metadata": {
    "collapsed": true
   },
   "outputs": [],
   "source": [
    "x=df[a]\n",
    "x.columns=column_names"
   ]
  },
  {
   "cell_type": "markdown",
   "metadata": {},
   "source": [
    "find entries which satisfy the below conditions \n",
    "'CHP' ='N', 'State'= 'TX', 'Generator' = 'CA' or 'CT', 'Fuel' ='NG'"
   ]
  },
  {
   "cell_type": "code",
   "execution_count": 11,
   "metadata": {
    "collapsed": true
   },
   "outputs": [],
   "source": [
    "TX_df= x[ (x[\"CHP\"]=='N') & (x[\"State\"]=='TX')  & (x[\"Fuel\"] == 'NG') & ( (x[\"Generator\"]== \"CA\") | (x[\"Generator\"]== \"CT\" )) ]"
   ]
  },
  {
   "cell_type": "code",
   "execution_count": 9,
   "metadata": {},
   "outputs": [
    {
     "name": "stdout",
     "output_type": "stream",
     "text": [
      "       Site# CHP  Operator# State  NERC Generator Fuel         Btu        MWh\n",
      "2993    3441   N      49979    TX   TRE        CA   NG     767,635    144,950\n",
      "2994    3441   N      49979    TX   TRE        CT   NG   8,168,192  1,035,610\n",
      "2995    3443   N      60638    TX   TRE        CA   NG     192,889    224,423\n",
      "2996    3443   N      60638    TX   TRE        CT   NG   4,897,854    407,550\n",
      "3001    3456   N       5701    TX  WECC        CA   NG           0    281,513\n",
      "3002    3456   N       5701    TX  WECC        CT   NG  11,304,599    818,100\n",
      "3012    3469   N      54888    TX   TRE        CA   NG           0    136,164\n",
      "3013    3469   N      54888    TX   TRE        CT   NG   4,571,095    333,583\n",
      "3053    3559   N       2409    TX   TRE        CA   NG         556     16,647\n",
      "3055    3559   N       2409    TX   TRE        CT   NG     666,693     53,264\n",
      "3083    3604   N      11292    TX   SPP        CA   NG           0     11,435\n",
      "3084    3604   N      11292    TX   SPP        CT   NG     653,933     60,485\n",
      "3102    3631   N      17583    TX   TRE        CA   NG           0     24,667\n",
      "3104    3631   N      17583    TX   TRE        CT   NG   1,193,642     92,245\n",
      "3428    4937   N      11269    TX   TRE        CA   NG           0  1,395,926\n",
      "3429    4937   N      11269    TX   TRE        CT   NG  24,809,799  2,348,025\n",
      "3430    4939   N      49979    TX   TRE        CA   NG     618,109     77,188\n",
      "3431    4939   N      49979    TX   TRE        CT   NG   5,830,007    755,929\n",
      "4315    7512   N      16604    TX   TRE        CA   NG           0  1,025,950\n",
      "4316    7512   N      16604    TX   TRE        CT   NG  19,385,326  1,647,742\n",
      "4551    7900   N       1015    TX   TRE        CA   NG     663,270    505,728\n",
      "4552    7900   N       1015    TX   TRE        CT   NG  10,048,491    819,917\n",
      "5768   50109   N      54700    TX   TRE        CA   NG      19,520    123,534\n",
      "5770   50109   N      54700    TX   TRE        CT   NG   3,491,239    267,397\n",
      "5786   50127   N      54777    TX   TRE        CA   NG           0        865\n",
      "5787   50127   N      54777    TX   TRE        CT   NG      77,837      3,257\n",
      "7551   54817   N       2172    TX   TRE        CA   NG     144,576    150,866\n",
      "7553   54817   N       2172    TX   TRE        CT   NG   3,329,846    273,131\n",
      "7746   55062   N      18611    TX  SERC        CA   NG   2,359,486  1,682,498\n",
      "7748   55062   N      18611    TX  SERC        CT   NG  26,787,635  2,409,470\n",
      "...      ...  ..        ...   ...   ...       ...  ...         ...        ...\n",
      "7940   55226   N       6763    TX   TRE        CA   NG           0  2,220,445\n",
      "7941   55226   N       6763    TX   TRE        CT   NG  43,045,062  3,735,475\n",
      "7945   55230   N       2172    TX   TRE        CA   NG   2,230,874  2,253,919\n",
      "7946   55230   N       2172    TX   TRE        CT   NG  36,926,677  3,093,154\n",
      "8051   55320   N      21668    TX   TRE        CA   NG       9,972    962,650\n",
      "8052   55320   N      21668    TX   TRE        CT   NG  19,115,621  1,666,382\n",
      "8085   55357   N       2171    TX   TRE        CA   NG     487,937  1,048,179\n",
      "8086   55357   N       2171    TX   TRE        CT   NG  20,832,761  1,810,563\n",
      "8087   55358   N       4405    TX  SERC        CA   NG   4,272,393  1,922,670\n",
      "8088   55358   N       4405    TX  SERC        CT   NG  30,764,128  2,820,280\n",
      "8195   55480   N      60477    TX   TRE        CA   NG   7,418,322  3,919,331\n",
      "8196   55480   N      60477    TX   TRE        CT   NG  62,801,723  5,573,315\n",
      "8241   55545   N       2934    TX   TRE        CA   NG           0  1,043,226\n",
      "8242   55545   N       2934    TX   TRE        CT   NG  20,246,078  1,717,940\n",
      "8332   55664   N      39347    TX   SPP        CA   NG     623,090    924,077\n",
      "8333   55664   N      39347    TX   SPP        CT   NG  17,082,535  1,497,693\n",
      "8726   56233   N      49949    TX   TRE        CA   NG      33,148    146,866\n",
      "8727   56233   N      49949    TX   TRE        CT   NG   6,478,376    697,046\n",
      "8841   56349   N      56766    TX   TRE        CA   NG     155,789    213,556\n",
      "8842   56349   N      56766    TX   TRE        CT   NG   5,180,101    393,814\n",
      "8843   56350   N      56765    TX   TRE        CA   NG     109,255    944,066\n",
      "8844   56350   N      56765    TX   TRE        CT   NG  18,706,655  1,299,446\n",
      "9252   56806   N      56020    TX   TRE        CA   NG           0    420,106\n",
      "9253   56806   N      56020    TX   TRE        CT   NG   9,779,727    829,670\n",
      "10396  58001   N      57377    TX   TRE        CA   NG   2,611,594  1,795,284\n",
      "10397  58001   N      57377    TX   TRE        CT   NG  28,713,486  2,540,779\n",
      "10401  58005   N      57379    TX   TRE        CA   NG   1,867,431  1,303,102\n",
      "10402  58005   N      57379    TX   TRE        CT   NG  20,942,832  1,845,363\n",
      "12795  99999   N      99999    TX   NaN        CA   NG           0          0\n",
      "12802  99999   N      99999    TX   NaN        CT   NG           0          0\n",
      "\n",
      "[86 rows x 9 columns]\n"
     ]
    }
   ],
   "source": [
    "print(TX_df)"
   ]
  },
  {
   "cell_type": "code",
   "execution_count": null,
   "metadata": {
    "collapsed": true
   },
   "outputs": [],
   "source": []
  }
 ],
 "metadata": {
  "kernelspec": {
   "display_name": "Python 3",
   "language": "python",
   "name": "python3"
  },
  "language_info": {
   "codemirror_mode": {
    "name": "ipython",
    "version": 3
   },
   "file_extension": ".py",
   "mimetype": "text/x-python",
   "name": "python",
   "nbconvert_exporter": "python",
   "pygments_lexer": "ipython3",
   "version": "3.6.3"
  }
 },
 "nbformat": 4,
 "nbformat_minor": 2
}
